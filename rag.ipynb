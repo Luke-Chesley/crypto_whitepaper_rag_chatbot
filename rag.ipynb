{
 "cells": [
  {
   "cell_type": "markdown",
   "metadata": {},
   "source": [
    "# document preprocessing"
   ]
  },
  {
   "cell_type": "code",
   "execution_count": 2,
   "metadata": {},
   "outputs": [],
   "source": [
    "import os\n",
    "\n",
    "TOPIC = 'crypto'\n",
    "\n",
    "files = [file for file in os.listdir(TOPIC) if file.endswith(\".pdf\") or file.endswith(\".txt\")]"
   ]
  },
  {
   "cell_type": "code",
   "execution_count": 3,
   "metadata": {},
   "outputs": [
    {
     "data": {
      "application/vnd.jupyter.widget-view+json": {
       "model_id": "0df817db85b54848a8bd27eef57636c2",
       "version_major": 2,
       "version_minor": 0
      },
      "text/plain": [
       "Processing files:   0%|          | 0/1386 [00:00<?, ?file/s]"
      ]
     },
     "metadata": {},
     "output_type": "display_data"
    },
    {
     "name": "stdout",
     "output_type": "stream",
     "text": [
      "Total chunks: 109475\n"
     ]
    }
   ],
   "source": [
    "from helpers.text_preprocess import preprocess\n",
    "import pandas as pd\n",
    "from tqdm.auto import tqdm\n",
    "\n",
    "total_chunks = 0\n",
    "chunk_list = []\n",
    "\n",
    "with tqdm(total=len(files), desc=\"Processing files\", unit=\"file\") as pbar:\n",
    "    for file in files:\n",
    "        pages_and_chunks = preprocess(f\"{TOPIC}/{file}\")\n",
    "        chunk_count = len(pages_and_chunks)\n",
    "        total_chunks += chunk_count\n",
    "        chunk_list.append(pages_and_chunks)\n",
    "\n",
    "        pbar.update(1)\n",
    "        pbar.set_postfix(file=file, chunks=chunk_count, total_chunks=total_chunks)\n",
    "\n",
    "print(f\"Total chunks: {total_chunks}\")\n",
    "\n",
    "pages_and_chunks = [i for s in chunk_list for i in s]\n",
    "\n",
    "\n"
   ]
  },
  {
   "cell_type": "code",
   "execution_count": 4,
   "metadata": {},
   "outputs": [],
   "source": [
    "pd.DataFrame(pages_and_chunks).to_csv(f\"{TOPIC}/text_chunks.csv\", escapechar=\"\\\\\")"
   ]
  },
  {
   "cell_type": "markdown",
   "metadata": {},
   "source": [
    "# embeddings"
   ]
  },
  {
   "cell_type": "code",
   "execution_count": 5,
   "metadata": {},
   "outputs": [],
   "source": [
    "from sentence_transformers import SentenceTransformer\n",
    "import torch\n",
    "\n",
    "device = 'cuda' if torch.cuda.is_available() else 'cpu'\n",
    "#device = 'cpu'"
   ]
  },
  {
   "cell_type": "code",
   "execution_count": 6,
   "metadata": {},
   "outputs": [],
   "source": [
    "embedding_model = SentenceTransformer(model_name_or_path='all-mpnet-base-v2',device=device)"
   ]
  },
  {
   "cell_type": "code",
   "execution_count": 8,
   "metadata": {},
   "outputs": [
    {
     "name": "stderr",
     "output_type": "stream",
     "text": [
      "Embedding:   0%|          | 0/109475 [00:00<?, ?chunk/s]"
     ]
    },
    {
     "name": "stderr",
     "output_type": "stream",
     "text": [
      "Embedding: 100%|██████████| 109475/109475 [11:35<00:00, 157.32chunk/s]\n"
     ]
    }
   ],
   "source": [
    "from helpers.embeddings import embed\n",
    "\n",
    "embeddings = embed(embedding_model, pages_and_chunks,device)\n",
    "\n",
    "torch.save(embeddings, f\"{TOPIC}/embeddings.pt\")"
   ]
  },
  {
   "cell_type": "markdown",
   "metadata": {},
   "source": [
    "# rag"
   ]
  },
  {
   "cell_type": "code",
   "execution_count": 1,
   "metadata": {},
   "outputs": [],
   "source": [
    "import torch \n",
    "import pandas as pd\n",
    "import random\n",
    "from helpers.rag import ask\n",
    "\n",
    "TOPIC = 'crypto'\n",
    "\n",
    "device = \"cuda\" if torch.cuda.is_available() else \"cpu\"\n",
    "\n",
    "text_chunks = pd.read_csv(f\"{TOPIC}/text_chunks.csv\")\n",
    "\n",
    "pages_and_chunks = text_chunks.to_dict(orient=\"records\")\n",
    "\n",
    "embeddings = torch.load(f\"{TOPIC}/embeddings.pt\")\n",
    "embeddings = torch.tensor(embeddings).to(device)\n",
    "\n"
   ]
  },
  {
   "cell_type": "code",
   "execution_count": 12,
   "metadata": {},
   "outputs": [],
   "source": [
    "query = \"what is a blockchain?\"\n"
   ]
  },
  {
   "cell_type": "code",
   "execution_count": 13,
   "metadata": {},
   "outputs": [
    {
     "name": "stdout",
     "output_type": "stream",
     "text": [
      "Query: what is a blockchain?\n"
     ]
    },
    {
     "data": {
      "application/vnd.jupyter.widget-view+json": {
       "model_id": "010d5741c1654480acb3f1b8a9e2d2d6",
       "version_major": 2,
       "version_minor": 0
      },
      "text/plain": [
       "Loading checkpoint shards:   0%|          | 0/2 [00:00<?, ?it/s]"
      ]
     },
     "metadata": {},
     "output_type": "display_data"
    },
    {
     "name": "stdout",
     "output_type": "stream",
     "text": [
      "Answer:\n",
      "\n",
      "A blockchain is a type of distributed and real time synchronized system that\n",
      "allows participants from different parties to connect at a central location and\n",
      "maintain a shared, tamper-proof record of data.\n",
      "Context items:\n"
     ]
    },
    {
     "data": {
      "text/plain": [
       "[{'page_number': 19,\n",
       "  'sentence_chunk': 'crypto/Ultiledger.txt:A blockchain is a type of distributively replicated state machine that resembles the form of a data chain where later data blocks refers to a single ancestor block often identified by its hash When a blockchain grows new blocks are included in the state machine and the propagated to all participating nodes within the network so that every node in the network has a single global view of all transaction data When multiple nodes intend to append data to the same data store a consensus is need to decide which node has the privilege of conducting so Thus a consensus',\n",
       "  'score': tensor(0.7314)},\n",
       " {'page_number': 8,\n",
       "  'sentence_chunk': 'crypto/Unibright.txt:a blockchain is characterized a \\\\\\\\xe2\\\\\\\\x80\\\\\\\\x9ddifferent kind of database\\\\\\\\xe2\\\\\\\\x80\\\\\\\\x9d a view which is too broad and technical in our opinion In our understanding a blockchain[1] first and foremost means a data structure a linked list Every item or block is inseparably connected to its predecessor by the use of cryptographic methods which define hash functions on the content of the predecessor block and verify the result in the following block This chain is constantly growing as blocks with transactions are added to it with a new set of recordings in a linear chronological order Technically a blockchain is a replicated',\n",
       "  'score': tensor(0.7280)},\n",
       " {'page_number': 25,\n",
       "  'sentence_chunk': 'crypto/DxChain.txt:by the pseudonym Satoshi Nakamoto  A blockchain is a form of digitised and decentralised public ledger it is used in all cryptocurrency transactions The distributed ledger is a type of database that is shared  replicated and synchronised among the members of a network It records the transactions  such as the exchange of assets or data among the participants in the network  Since the Bitcoin network started on January 2009 many other cryptocurrencies have emerged The most popular consensus protocols are still based on the idea from Nakamoto either Proof',\n",
       "  'score': tensor(0.6487)},\n",
       " {'page_number': 32,\n",
       "  'sentence_chunk': 'crypto/Vechain.txt:added but not tampered with   From the system point of view blockchain is a distributed and real time synchronized system  allowing participants from different parties to create access and maintain the data through a  mechanism for consensus It makes the entire blockchain network act as a giant computer  formed by multiple nodes located everywhere with network connections and full replication of  data   From the application point of view blockchain is a standard global platform that allows multiple  participants to connect at the',\n",
       "  'score': tensor(0.6347)},\n",
       " {'page_number': 10,\n",
       "  'sentence_chunk': 'crypto/RealTract.txt:or a group in an efficient permanent and verifiable way Blockchain is a continuously growing list of digital records called blocks which are linked and secured using the cryptography processes Each block contains a hash pointer as a link to a previous block transaction data and a timestamp Blockchains are secure by design and inherently resistant to the modification of the data Blockchain formation is based on a lengthy and time consuming process The main chain consists of the longest series of the blocks from the genesis block to the current block The blocks existing outside of the main chain',\n",
       "  'score': tensor(0.6345)},\n",
       " {'page_number': 64,\n",
       "  'sentence_chunk': 'crypto/AI Doctor.txt:system Precisely speaking the blockchain is a kind of chain data structure which is composed of data chunks sequentially connected in a chronological order and it is the distributed ledger cryptographically being secured to ensure that it will not be tampered with or forged Broadly speaking the blockchain technology is a new type of distributed infrastructure and computing paradigm which verify and store data by using chain data structure \\\\\\\\x0cgenerate and update data by using the distributed node consensus algorithm ensure the security of data transmission and access by right owner and program and operate data by intelligent contracts consisting',\n",
       "  'score': tensor(0.6330)}]"
      ]
     },
     "execution_count": 13,
     "metadata": {},
     "output_type": "execute_result"
    }
   ],
   "source": [
    "query = query\n",
    "print(f\"Query: {query}\")\n",
    "\n",
    "# Answer query with context and return context\n",
    "answer, context_items = ask(\n",
    "    query=query,\n",
    "    embeddings=embeddings,\n",
    "    llm_model_id=\"google/gemma-2b-it\",\n",
    "    embedding_model_id=\"all-mpnet-base-v2\",\n",
    "    pages_and_chunks=pages_and_chunks,\n",
    "    n_resources_to_return = 6,\n",
    "    temperature=0.90,\n",
    "    max_new_tokens=2048,\n",
    "    return_answer_only=False,\n",
    ")\n",
    "\n",
    "print(f\"Answer:\\n\")\n",
    "print(answer)\n",
    "print(f\"Context items:\")\n",
    "context_items"
   ]
  },
  {
   "cell_type": "code",
   "execution_count": null,
   "metadata": {},
   "outputs": [],
   "source": []
  }
 ],
 "metadata": {
  "kernelspec": {
   "display_name": "venv",
   "language": "python",
   "name": "python3"
  },
  "language_info": {
   "codemirror_mode": {
    "name": "ipython",
    "version": 3
   },
   "file_extension": ".py",
   "mimetype": "text/x-python",
   "name": "python",
   "nbconvert_exporter": "python",
   "pygments_lexer": "ipython3",
   "version": "3.10.12"
  }
 },
 "nbformat": 4,
 "nbformat_minor": 2
}
