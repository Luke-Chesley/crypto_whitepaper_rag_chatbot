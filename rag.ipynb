{
 "cells": [
  {
   "cell_type": "markdown",
   "metadata": {},
   "source": [
    "# document preprocessing"
   ]
  },
  {
   "cell_type": "code",
   "execution_count": 2,
   "metadata": {},
   "outputs": [],
   "source": [
    "import os\n",
    "\n",
    "topic_choices = ['adtech','walmart_annual_reports','nutrition','crypto'] \n",
    "\n",
    "TOPIC = 'adtech'\n",
    "\n",
    "files = [file for file in os.listdir(TOPIC) if file.endswith(\".pdf\") or file.endswith(\".txt\")]"
   ]
  },
  {
   "cell_type": "code",
   "execution_count": 3,
   "metadata": {},
   "outputs": [
    {
     "data": {
      "application/vnd.jupyter.widget-view+json": {
       "model_id": "0b970f0dbfd74cfaa913083ce654d1b7",
       "version_major": 2,
       "version_minor": 0
      },
      "text/plain": [
       "Processing files:   0%|          | 0/2 [00:00<?, ?file/s]"
      ]
     },
     "metadata": {},
     "output_type": "display_data"
    },
    {
     "name": "stdout",
     "output_type": "stream",
     "text": [
      "Total chunks: 2241\n"
     ]
    }
   ],
   "source": [
    "from helpers.text_preprocess import preprocess\n",
    "import pandas as pd\n",
    "from tqdm.auto import tqdm\n",
    "\n",
    "total_chunks = 0\n",
    "chunk_list = []\n",
    "\n",
    "with tqdm(total=len(files), desc=\"Processing files\", unit=\"file\") as pbar:\n",
    "    for file in files:\n",
    "        pages_and_chunks = preprocess(f\"{TOPIC}/{file}\")\n",
    "        chunk_count = len(pages_and_chunks)\n",
    "        total_chunks += chunk_count\n",
    "        chunk_list.append(pages_and_chunks)\n",
    "\n",
    "        pbar.update(1)\n",
    "        pbar.set_postfix(file=file, chunks=chunk_count, total_chunks=total_chunks)\n",
    "\n",
    "print(f\"Total chunks: {total_chunks}\")\n",
    "\n",
    "pages_and_chunks = [i for s in chunk_list for i in s]\n",
    "\n",
    "\n",
    "pd.DataFrame(pages_and_chunks).to_csv(f\"{TOPIC}/text_chunks.csv\", escapechar=\"\\\\\")"
   ]
  },
  {
   "cell_type": "markdown",
   "metadata": {},
   "source": [
    "# embeddings"
   ]
  },
  {
   "cell_type": "code",
   "execution_count": 4,
   "metadata": {},
   "outputs": [],
   "source": [
    "from sentence_transformers import SentenceTransformer\n",
    "import torch\n",
    "\n",
    "device = 'cuda' if torch.cuda.is_available() else 'cpu'\n",
    "#device = 'cpu'"
   ]
  },
  {
   "cell_type": "code",
   "execution_count": 5,
   "metadata": {},
   "outputs": [],
   "source": [
    "embedding_model = SentenceTransformer(model_name_or_path='all-mpnet-base-v2',device=device)"
   ]
  },
  {
   "cell_type": "code",
   "execution_count": 6,
   "metadata": {},
   "outputs": [
    {
     "name": "stderr",
     "output_type": "stream",
     "text": [
      "Embedding: 100%|██████████| 2241/2241 [00:16<00:00, 132.37chunk/s]\n"
     ]
    }
   ],
   "source": [
    "from helpers.embeddings import embed\n",
    "\n",
    "embeddings = embed(embedding_model, pages_and_chunks,device)\n",
    "\n",
    "torch.save(embeddings, f\"{TOPIC}/embeddings.pt\")"
   ]
  },
  {
   "cell_type": "markdown",
   "metadata": {},
   "source": [
    "# rag"
   ]
  },
  {
   "cell_type": "code",
   "execution_count": 1,
   "metadata": {},
   "outputs": [],
   "source": [
    "import torch \n",
    "import pandas as pd\n",
    "import random\n",
    "from helpers.rag import ask\n",
    "\n",
    "TOPIC = 'adtech'\n",
    "\n",
    "device = \"cuda\" if torch.cuda.is_available() else \"cpu\"\n",
    "\n",
    "text_chunks = pd.read_csv(f\"{TOPIC}/text_chunks.csv\")\n",
    "\n",
    "pages_and_chunks = text_chunks.to_dict(orient=\"records\")\n",
    "\n",
    "embeddings = torch.load(f\"{TOPIC}/embeddings.pt\").to(device)\n",
    "#embeddings = torch.tensor(embeddings).to(device)\n",
    "\n"
   ]
  },
  {
   "cell_type": "code",
   "execution_count": 2,
   "metadata": {},
   "outputs": [],
   "source": [
    "query = \"can you give a brief overview of the subject of algorithmic marketing\""
   ]
  },
  {
   "cell_type": "code",
   "execution_count": 3,
   "metadata": {},
   "outputs": [
    {
     "name": "stdout",
     "output_type": "stream",
     "text": [
      "Query: can you give a brief overview of the subject of algorithmic marketing\n"
     ]
    },
    {
     "data": {
      "application/vnd.jupyter.widget-view+json": {
       "model_id": "58d83afc950448e592c9086a0033e40b",
       "version_major": 2,
       "version_minor": 0
      },
      "text/plain": [
       "Loading checkpoint shards:   0%|          | 0/2 [00:00<?, ?it/s]"
      ]
     },
     "metadata": {},
     "output_type": "display_data"
    },
    {
     "name": "stdout",
     "output_type": "stream",
     "text": [
      "Answer:\n",
      "\n",
      "Sure, here's a brief overview of the subject of algorithmic marketing from the\n",
      "context items:  - **Algorithmic marketing is a marketing process that is auto-\n",
      "mated to such a degree that it can be steered by setting a business objective in\n",
      "a marketing software system.** This implies that the market- ing system should\n",
      "be intelligent and knowledgeable enough to understand and execute a sequence of\n",
      "business actions that will achieve the desired objective.   - **The sub- ject of\n",
      "algorithmic marketing mainly concerns the processes that can be found in the\n",
      "four areas of the marketing mix and the automation of these processes by using\n",
      "data-driven techniques and econometric methods.** The book mainly focuses on the\n",
      "automation of activities related to product analysis, promotions,\n",
      "recommendations, and pricing.   - **The history of algorithmic marketing shows\n",
      "that the concept was laid in the 1970s with the development of the internet and\n",
      "the spread of multimedia websites.** The transition from direct selling of\n",
      "banner slots to the surge in online advertising and the growth of the internet\n",
      "market spurred the development of this branch of marketing.\n",
      "Context items:\n"
     ]
    },
    {
     "data": {
      "text/plain": [
       "[{'page_number': 17,\n",
       "  'sentence_chunk': 'adtech/algorithmic-marketing-ai-for-marketing-operations-r1.8ga.pdf:Some of these publications are mainly focused on the technology and implementation aspects, whereas others dive deep into mathematical modeling, optimization, and econometrics. In practice, both aspects are important for the successful creation and operation of a marketing system. Many of these results are also based on or related to models developed in scientiﬁc marketing by academic researchers.1.1 the subject of algorithmic marketing One of the traditional deﬁnitions of marketing describes it as the activ- ity of deﬁning products and services offered by a company and com- municating them to existing or potential customers. This activity can',\n",
       "  'score': tensor(0.8529)},\n",
       " {'page_number': 18,\n",
       "  'sentence_chunk': 'adtech/algorithmic-marketing-ai-for-marketing-operations-r1.8ga.pdf:1.1 the subject of algorithmic marketing 3 be broken down into several streams that are typically described as variations of the following categories [McCarthy, 1960]: • Product – analysis of marketing opportunities, planning of prod- uct lines and product features, assortment planning. •Promotion – all methods of communication between the com- pany and its customers: advertisements, recommendations, cus- tomer care, and others. •Price – pricing strategies, including posted prices, price dis- counts, and price changes over time. •Place – historically, this refers to the process of making a prod- uct or service available to the end user through various distri- bution channels. More recent interpretations emphasize the role of product discovery and convenience to buy, with the argument that distribution is becoming less relevant with the rise of digital marketing channels [Lauterborn, 1990].',\n",
       "  'score': tensor(0.8103)},\n",
       " {'page_number': 19,\n",
       "  'sentence_chunk': 'adtech/algorithmic-marketing-ai-for-marketing-operations-r1.8ga.pdf:4 introduction beneﬁt from data-driven methods. The short summary is that the sub- ject of algorithmic marketing mainly concerns the processes that can be found in the four areas of the marketing mix and the automation of these processes by using data-driven techniques and econometric methods.1.2 the definition of algorithmic marketing We deﬁne algorithmic marketing as a marketing process that is auto- mated to such a degree that it can be steered by setting a business objective in a marketing software system. This implies that the market- ing system should be intelligent and knowledgeable enough to under- stand a high-level objective, such as the acquisition of new customers or revenue maximization, to plan and execute a sequence of business actions, such as an advertisement campaign or price adjustment, with the aim of achieving the objective, and to learn from the results to correct and optimize the actions if needed. This basic principle is illus- trated in Figure 1.1.',\n",
       "  'score': tensor(0.8049)},\n",
       " {'page_number': 31,\n",
       "  'sentence_chunk': 'adtech/algorithmic-marketing-ai-for-marketing-operations-r1.8ga.pdf:16 introduction textbook. Overall, if you are comfortable with the following expression, you are probably good to go: E rXs “ ż 8 ´8 x fXpxqdx This book is divided into six chapters. This ﬁrst chapter, Introduc- tion, outlines the main concepts and principles of algorithmic mar- keting and also discusses several inspiring case studies that illustrate the prerequisites and beneﬁts of the algorithmic approach. The sec- ond chapter, Review of Predictive Modeling, focuses on the mathemat- ical foundations of algorithmic marketing. The last four chapters cover four different domains of marketing – advertisements and promotions, search services, recommendations, and pricing – one domain at a time.',\n",
       "  'score': tensor(0.8030)},\n",
       " {'page_number': 20,\n",
       "  'sentence_chunk': 'adtech/algorithmic-marketing-ai-for-marketing-operations-r1.8ga.pdf:Analysis of such favorable environments is a natural starting point for understanding algorith- mic marketing. Let us brieﬂy review several business cases that laid the foundation for algorithmic marketing in search of the patterns and characteristics that enabled the systematic approach.1.3.1 Online Advertising: Services and Exchanges The history of internet advertising can be traced back to May 3, 1978, when the ﬁrst spam email was sent to 400 users of the computer net- work ARPANET, deployed at that time in just four locations: the Uni- versity of Utah, UCLA, UC Santa Barbara, and Stanford Research. Fif- teen years later, by 1993, when ARPANET had developed into the In- ternet and the spread of the Web enabled multimedia websites, the market of banner ads appeared. This new market originally relied on direct selling of banner slots offered by website publishers to advertis- ers, but this approach started to lose its efﬁciency very quickly when there was a surge in the number of websites.',\n",
       "  'score': tensor(0.7976)},\n",
       " {'page_number': 8,\n",
       "  'sentence_chunk': 'adtech/algorithmic-marketing-ai-for-marketing-operations-r1.8ga.pdf:C O N T E N T S 1 introduction 1 1.1 The Subject of Algorithmic Marketing . . . . . . . . . . .2 1.2 The Deﬁnition of Algorithmic Marketing . . . . . . . . . .4 1.3 Historical Backgrounds and Context . . . . . . . . . . . .5 1.3.1 Online Advertising: Services and Exchanges . . . . .5 1.3.2 Airlines: Revenue Management . . . . . . . . . . . . .',\n",
       "  'score': tensor(0.7870)}]"
      ]
     },
     "execution_count": 3,
     "metadata": {},
     "output_type": "execute_result"
    }
   ],
   "source": [
    "query = query\n",
    "print(f\"Query: {query}\")\n",
    "\n",
    "# Answer query with context and return context\n",
    "answer, context_items = ask(\n",
    "    query=query,\n",
    "    embeddings=embeddings,\n",
    "    llm_model_id=\"google/gemma-2b-it\",\n",
    "    embedding_model_id=\"all-mpnet-base-v2\",\n",
    "    pages_and_chunks=pages_and_chunks,\n",
    "    n_resources_to_return = 6,\n",
    "    temperature=0.90,\n",
    "    max_new_tokens=2048,\n",
    "    return_answer_only=False,\n",
    ")\n",
    "\n",
    "print(f\"Answer:\\n\")\n",
    "print(answer)\n",
    "print(f\"Context items:\")\n",
    "context_items"
   ]
  },
  {
   "cell_type": "code",
   "execution_count": null,
   "metadata": {},
   "outputs": [],
   "source": []
  }
 ],
 "metadata": {
  "kernelspec": {
   "display_name": "venv",
   "language": "python",
   "name": "python3"
  },
  "language_info": {
   "codemirror_mode": {
    "name": "ipython",
    "version": 3
   },
   "file_extension": ".py",
   "mimetype": "text/x-python",
   "name": "python",
   "nbconvert_exporter": "python",
   "pygments_lexer": "ipython3",
   "version": "3.10.12"
  }
 },
 "nbformat": 4,
 "nbformat_minor": 2
}
