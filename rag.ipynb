{
 "cells": [
  {
   "cell_type": "markdown",
   "metadata": {},
   "source": [
    "# document preprocessing"
   ]
  },
  {
   "cell_type": "code",
   "execution_count": 2,
   "metadata": {},
   "outputs": [],
   "source": [
    "import os\n",
    "\n",
    "TOPIC = 'crypto'\n",
    "\n",
    "files = [file for file in os.listdir(TOPIC) if file.endswith(\".pdf\") or file.endswith(\".txt\")]"
   ]
  },
  {
   "cell_type": "code",
   "execution_count": 3,
   "metadata": {},
   "outputs": [
    {
     "data": {
      "application/vnd.jupyter.widget-view+json": {
       "model_id": "0df817db85b54848a8bd27eef57636c2",
       "version_major": 2,
       "version_minor": 0
      },
      "text/plain": [
       "Processing files:   0%|          | 0/1386 [00:00<?, ?file/s]"
      ]
     },
     "metadata": {},
     "output_type": "display_data"
    },
    {
     "name": "stdout",
     "output_type": "stream",
     "text": [
      "Total chunks: 109475\n"
     ]
    }
   ],
   "source": [
    "from helpers.text_preprocess import preprocess\n",
    "import pandas as pd\n",
    "from tqdm.auto import tqdm\n",
    "\n",
    "total_chunks = 0\n",
    "chunk_list = []\n",
    "\n",
    "with tqdm(total=len(files), desc=\"Processing files\", unit=\"file\") as pbar:\n",
    "    for file in files:\n",
    "        pages_and_chunks = preprocess(f\"{TOPIC}/{file}\")\n",
    "        chunk_count = len(pages_and_chunks)\n",
    "        total_chunks += chunk_count\n",
    "        chunk_list.append(pages_and_chunks)\n",
    "\n",
    "        pbar.update(1)\n",
    "        pbar.set_postfix(file=file, chunks=chunk_count, total_chunks=total_chunks)\n",
    "\n",
    "print(f\"Total chunks: {total_chunks}\")\n",
    "\n",
    "pages_and_chunks = [i for s in chunk_list for i in s]\n",
    "\n",
    "\n"
   ]
  },
  {
   "cell_type": "code",
   "execution_count": 4,
   "metadata": {},
   "outputs": [],
   "source": [
    "pd.DataFrame(pages_and_chunks).to_csv(f\"{TOPIC}/text_chunks.csv\", escapechar=\"\\\\\")"
   ]
  },
  {
   "cell_type": "markdown",
   "metadata": {},
   "source": [
    "# embeddings"
   ]
  },
  {
   "cell_type": "code",
   "execution_count": 5,
   "metadata": {},
   "outputs": [],
   "source": [
    "from sentence_transformers import SentenceTransformer\n",
    "import torch\n",
    "\n",
    "device = 'cuda' if torch.cuda.is_available() else 'cpu'\n",
    "#device = 'cpu'"
   ]
  },
  {
   "cell_type": "code",
   "execution_count": 6,
   "metadata": {},
   "outputs": [],
   "source": [
    "embedding_model = SentenceTransformer(model_name_or_path='all-mpnet-base-v2',device=device)"
   ]
  },
  {
   "cell_type": "code",
   "execution_count": 8,
   "metadata": {},
   "outputs": [
    {
     "name": "stderr",
     "output_type": "stream",
     "text": [
      "Embedding:   0%|          | 0/109475 [00:00<?, ?chunk/s]"
     ]
    },
    {
     "name": "stderr",
     "output_type": "stream",
     "text": [
      "Embedding: 100%|██████████| 109475/109475 [11:35<00:00, 157.32chunk/s]\n"
     ]
    }
   ],
   "source": [
    "from helpers.embeddings import embed\n",
    "\n",
    "embeddings = embed(embedding_model, pages_and_chunks,device)\n",
    "\n",
    "torch.save(embeddings, f\"{TOPIC}/embeddings.pt\")"
   ]
  },
  {
   "cell_type": "markdown",
   "metadata": {},
   "source": [
    "# rag"
   ]
  },
  {
   "cell_type": "code",
   "execution_count": 1,
   "metadata": {},
   "outputs": [],
   "source": [
    "import torch \n",
    "import pandas as pd\n",
    "import random\n",
    "from helpers.rag import ask\n",
    "\n",
    "TOPIC = 'crypto'\n",
    "\n",
    "device = \"cuda\" if torch.cuda.is_available() else \"cpu\"\n",
    "\n",
    "text_chunks = pd.read_csv(f\"{TOPIC}/text_chunks.csv\")\n",
    "\n",
    "pages_and_chunks = text_chunks.to_dict(orient=\"records\")\n",
    "\n",
    "embeddings = torch.load(f\"{TOPIC}/embeddings.pt\")\n",
    "embeddings = torch.tensor(embeddings).to(device)\n",
    "\n"
   ]
  },
  {
   "cell_type": "code",
   "execution_count": 10,
   "metadata": {},
   "outputs": [],
   "source": [
    "query = \"what is a blockchain?\"\n"
   ]
  },
  {
   "cell_type": "code",
   "execution_count": 11,
   "metadata": {},
   "outputs": [
    {
     "name": "stdout",
     "output_type": "stream",
     "text": [
      "Query: how do you maintain security in your blockchain\n"
     ]
    },
    {
     "data": {
      "application/vnd.jupyter.widget-view+json": {
       "model_id": "4aae802d77e846e4b64da9a2d8041624",
       "version_major": 2,
       "version_minor": 0
      },
      "text/plain": [
       "Loading checkpoint shards:   0%|          | 0/2 [00:00<?, ?it/s]"
      ]
     },
     "metadata": {},
     "output_type": "display_data"
    },
    {
     "name": "stdout",
     "output_type": "stream",
     "text": [
      "Answer:\n",
      "\n",
      "The passage does not provide any information on how to maintain security in a\n",
      "blockchain, so I cannot answer this query from the context.\n",
      "Context items:\n"
     ]
    },
    {
     "data": {
      "text/plain": [
       "[{'page_number': 52,\n",
       "  'sentence_chunk': 'crypto/REBL.txt:the way to go if you have information that you do not wish to share with every random peer However work counterproductively for trust with other parties involved in the network or for example regulatory compliance With writing permissions kept central there is need for proof that the blockchain is not being tampered with The need for an additional third party to audit activity on the chain is therefore required However with traditional third party interaction a private blockchain can be expensive and slow to audit \\\\\\\\t\\\\\\\\t 4 1 3 2 REBL\\\\\\\\xe2\\\\\\\\x80\\\\\\\\x99s solution for centralised client blockchains The REBL chain',\n",
       "  'score': tensor(0.4766)},\n",
       " {'page_number': 29,\n",
       "  'sentence_chunk': 'crypto/InterValue.txt:of privacy protection in Blockchain there are several solutions such as ring signature  homomorphic encryption and zero knowledge proof  P2P communication The Blockchain system uses P2P network technology to –5– connect peers Different from centralized network mode each node in the P2P network has equal status each node has the same network authority and there is no centralized server However because there is no centralized server node’s information can be easily leaked  Consensus mechanism There are several major consensus mechanisms PoW  PoS DPoS PBFT PoW (Proof',\n",
       "  'score': tensor(0.4670)},\n",
       " {'page_number': 1,\n",
       "  'sentence_chunk': 'crypto/Remme.txt:system with public data) 13 4 2 Example 2 (private blockchain) 13 Conclusion Useful links 15 15 Annex 1 Bitcoin prototype 16 Annex 2 Consensus algorithms brief comparison 18 Annex 3 Blockchain frameworks comparison 19 Annex 4 Token sale 20 \\\\\\\\x0cIntroduction Nowadays the main method of accessing various local and network resources is a password that has proven itself as a way of identifying and securing users and resources However it has one serious drawback in case of stealing a password an attacker gets access to all the data of the user who owned this password In addition users usually',\n",
       "  'score': tensor(0.4625)},\n",
       " {'page_number': 20,\n",
       "  'sentence_chunk': 'crypto/Gulden.txt:easy to defend against and are notably one of the exceptions where the bitcoin team has conceded that some decentralization is good By having checkpoints (basically snapshots of the blockchain) built into each wallet release certain blocks that are expected to be present are hard coded This prevents an attack from before the last checkpoint Various other defenses are possible some of them with some downsides of their own (e g 3 7) 2 2 >50% attacks The largest attack vector against a blockchain is the >50% attack if an attacker can gain >50% or more of the networks hash',\n",
       "  'score': tensor(0.4484)},\n",
       " {'page_number': 6,\n",
       "  'sentence_chunk': 'crypto/legolas.txt:principles which enable a secure marketplace The Bitcoin community quickly realized that a \\\\\\\\xe2\\\\\\\\x80\\\\\\\\x9c\\\\\\\\xe2\\\\\\\\x80\\\\\\\\x8btrustless system\\\\\\\\xe2\\\\\\\\x80\\\\\\\\x8b\\\\\\\\xe2\\\\\\\\x80\\\\\\\\x9d was an ideal environment for the acts of \\\\\\\\xe2\\\\\\\\x80\\\\\\\\x8b\\\\\\\\xe2\\\\\\\\x80\\\\\\\\x9ctrustless people\\\\\\\\xe2\\\\\\\\x80\\\\\\\\x9d\\\\\\\\xe2\\\\\\\\x80\\\\\\\\x8b Potential solutions such as the web of trust have emerged but this type of system based on reputation has struggled due to the difficulty of consistent implementation 1 2 Lack of security Over US$1 billion in crypto assets were stolen between January and June 2018 (1) and the list of hacking attacks grows longer every day The popularity of crypto assets among \\\\\\\\xe2\\\\\\\\x80\\\\\\\\x9ccyber criminals\\\\\\\\xe2\\\\\\\\x80\\\\\\\\x9d is explained by their intrinsic attributes i e anonymity and non',\n",
       "  'score': tensor(0.4450)},\n",
       " {'page_number': 16,\n",
       "  'sentence_chunk': 'crypto/BaaSid.txt:quality of life and obtain better value However with such blockchain technology and use other types of centralization continue to come into being and there are doubts and limitations as to how they stand up to the threat of hacking And this situation is spawning a slew of diverse companies and services The most prominent case is centralizing saving and maintaining information on various internet service users based on the blockchain Already there were many cases where databases (DB) with personal information stored or other centralized databases were hacked And event today little can be done to ease the anxiety',\n",
       "  'score': tensor(0.4427)}]"
      ]
     },
     "execution_count": 11,
     "metadata": {},
     "output_type": "execute_result"
    }
   ],
   "source": [
    "query = query\n",
    "print(f\"Query: {query}\")\n",
    "\n",
    "# Answer query with context and return context\n",
    "answer, context_items = ask(\n",
    "    query=query,\n",
    "    embeddings=embeddings,\n",
    "    llm_model_id=\"google/gemma-2b-it\",\n",
    "    embedding_model_id=\"all-mpnet-base-v2\",\n",
    "    pages_and_chunks=pages_and_chunks,\n",
    "    n_resources_to_return = 6,\n",
    "    temperature=0.90,\n",
    "    max_new_tokens=2048,\n",
    "    return_answer_only=False,\n",
    ")\n",
    "\n",
    "print(f\"Answer:\\n\")\n",
    "print(answer)\n",
    "print(f\"Context items:\")\n",
    "context_items"
   ]
  },
  {
   "cell_type": "code",
   "execution_count": null,
   "metadata": {},
   "outputs": [],
   "source": []
  }
 ],
 "metadata": {
  "kernelspec": {
   "display_name": "venv",
   "language": "python",
   "name": "python3"
  },
  "language_info": {
   "codemirror_mode": {
    "name": "ipython",
    "version": 3
   },
   "file_extension": ".py",
   "mimetype": "text/x-python",
   "name": "python",
   "nbconvert_exporter": "python",
   "pygments_lexer": "ipython3",
   "version": "3.10.12"
  }
 },
 "nbformat": 4,
 "nbformat_minor": 2
}
